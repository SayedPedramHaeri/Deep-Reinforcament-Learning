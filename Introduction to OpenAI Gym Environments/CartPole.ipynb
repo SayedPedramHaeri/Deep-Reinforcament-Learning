{
 "cells": [
  {
   "cell_type": "markdown",
   "id": "6f0ac8c4",
   "metadata": {},
   "source": [
    "# Project: Deep Reinforcement Learning - CartPole Environment\n",
    "**Author:** Sayed Pedram Haeri Boroujeni  \n",
    "**Position:** PhD Student, Clemson University  \n",
    "**Affiliation:** Department of Computer Science  \n",
    "**Email:** shaerib@g.clemson.edu  \n",
    "**Date Created:** June 10, 2025  \n",
    "**Last Updated:** June 15, 2025 "
   ]
  },
  {
   "attachments": {
    "image.png": {
     "image/png": "[encoded data removed]"
    }
   },
   "cell_type": "markdown",
   "id": "96e409f6",
   "metadata": {},
   "source": [
    "## CartPole Environment:\n",
    "The CartPole-v1 environment models a pole attached by an un-actuated joint to a cart, which moves along a frictionless track. The agent must apply forces to the cart to keep the pole balanced upright. For the CartPole environment, we have a discrete action space and a continuous observation space. \n",
    "%%html\n",
    "<img src=\"attachment:image.png\" width=\"300\" height=\"400\" />\n",
    "\n",
    "- **State Space**: \n",
    "  \n",
    "  The observation is a 4-dimensional continuous vector consisting of:\n",
    "  - Cart Position (x)\n",
    "  - Cart Velocity (ẋ) \n",
    "  - Pole Angle (θ)\n",
    "  - Pole Velocity at Tip (θ̇)\n",
    "  \n",
    "  Each of these values is returned as a floating-point number on every step.\n",
    "  \n",
    "  <br>\n",
    "  \n",
    "- **Action Space**:\n",
    "  - 0 — Push cart to the left\n",
    "  - 1 — Push cart to the right\n",
    "  \n",
    "  <br>\n",
    "  \n",
    "- **Objective**:\n",
    "  - Keep the pole balanced upright by selecting left or right forces at each time step.\n",
    "  \n",
    "  The episode terminates when any of the following occurs:\n",
    "  - Pole angle exceeds ±12° (≈0.209 rad) from vertical.\n",
    "  - Cart position exceeds ±2.4 units from the center.\n",
    "  - 500 time steps have elapsed (the default horizon in CartPole-v1).\n",
    "  \n",
    "  <br>\n",
    "  \n",
    "- **Reward Signal**:\n",
    "  - +1 for every step that the pole remains upright (i.e., for each time step before termination).\n",
    "  - The maximum achievable return per episode is 500.\n",
    "  \n",
    "You can create the CartPole environment as follows (please see the basic definitions on OpenAI Gym Evironments in the FrozenLake file):"
   ]
  },
  {
   "cell_type": "code",
   "execution_count": null,
   "id": "9a5a0ba5",
   "metadata": {},
   "outputs": [],
   "source": [
    "import gym"
   ]
  },
  {
   "cell_type": "code",
   "execution_count": null,
   "id": "50d3332f",
   "metadata": {},
   "outputs": [],
   "source": [
    "env = gym.make(\"CartPole-v1\", render_mode=\"human\")"
   ]
  },
  {
   "cell_type": "markdown",
   "id": "328852eb",
   "metadata": {},
   "source": [
    "Since we have continuous state space, env.observation_spac gives you the minimum and maximum bounds of the states; however, you will see a similar result to FrozenLake for the action space."
   ]
  },
  {
   "cell_type": "code",
   "execution_count": null,
   "id": "fbab38d4",
   "metadata": {},
   "outputs": [],
   "source": [
    "print(\"State Space:\", env.observation_space)\n",
    "print(\"Action Space:\", env.action_space)"
   ]
  },
  {
   "cell_type": "code",
   "execution_count": null,
   "id": "d5fc85cd",
   "metadata": {},
   "outputs": [],
   "source": [
    "env.reset()\n",
    "env.render()\n",
    "print(env.step(1))"
   ]
  },
  {
   "cell_type": "code",
   "execution_count": null,
   "id": "56b98cc3",
   "metadata": {},
   "outputs": [],
   "source": [
    "random_action = env.action_space.sample()\n",
    "next_state, reward, terminated, truncated, info = env.step(random_action)\n",
    "print(f\"  → state={next_state}, reward={reward}, terminated={terminated}, truncated={truncated}\")"
   ]
  },
  {
   "cell_type": "code",
   "execution_count": null,
   "id": "1586ee4d",
   "metadata": {},
   "outputs": [],
   "source": [
    "env.close()"
   ]
  },
  {
   "cell_type": "markdown",
   "id": "208dea14",
   "metadata": {},
   "source": [
    "In the following code, we consider 5 episodes to see the agent's movement in the environment."
   ]
  },
  {
   "cell_type": "code",
   "execution_count": null,
   "id": "5764c37b",
   "metadata": {},
   "outputs": [],
   "source": [
    "import gym\n",
    "import time\n",
    "\n",
    "env = gym.make(\"CartPole-v1\", render_mode=\"human\")\n",
    "\n",
    "episode_number = 5\n",
    "\n",
    "for i in range(episode_number):\n",
    "    \n",
    "    print(f\"..... Episode {i+1} is started ........\")\n",
    "    \n",
    "    state, info_ini = env.reset()\n",
    "    \n",
    "    print(f\"  → state={state}\")\n",
    "    \n",
    "    while True:\n",
    "        \n",
    "        env.render()\n",
    "        \n",
    "        action = env.action_space.sample()\n",
    "        next_state, reward, terminated, truncated, info = env.step(action)\n",
    "        \n",
    "        print(f\"  → action={action}, state={next_state}, reward={reward}, terminated={terminated}, truncated={truncated}\")\n",
    "        \n",
    "        done = terminated or truncated\n",
    "        \n",
    "        time.sleep(0.1)\n",
    "        \n",
    "        if done:\n",
    "            break\n",
    "            \n",
    "env.close()"
   ]
  },
  {
   "cell_type": "code",
   "execution_count": null,
   "id": "678a6e08",
   "metadata": {},
   "outputs": [],
   "source": []
  }
 ],
 "metadata": {
  "kernelspec": {
   "display_name": "Python 3 (ipykernel)",
   "language": "python",
   "name": "python3"
  },
  "language_info": {
   "codemirror_mode": {
    "name": "ipython",
    "version": 3
   },
   "file_extension": ".py",
   "mimetype": "text/x-python",
   "name": "python",
   "nbconvert_exporter": "python",
   "pygments_lexer": "ipython3",
   "version": "3.9.13"
  }
 },
 "nbformat": 4,
 "nbformat_minor": 5
}
